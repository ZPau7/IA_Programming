{
  "cells": [
    {
      "cell_type": "code",
      "execution_count": null,
      "metadata": {
        "id": "g3zl1tZB3tOI"
      },
      "outputs": [],
      "source": [
        "# Import necessary libraries\n",
        "import tensorflow as tf\n",
        "from tensorflow.keras.applications import InceptionV3\n",
        "from tensorflow.keras.models import Model\n",
        "from tensorflow.keras.layers import GlobalAveragePooling2D, Dense\n",
        "from tensorflow.keras.utils import to_categorical\n",
        "from tensorflow.keras.datasets import cifar10"
      ]
    },
    {
      "cell_type": "code",
      "source": [
        "# Step 1: Load and preprocess the CIFAR-10 dataset\n",
        "# Load the dataset\n",
        "(x_train, y_train), (x_test, y_test) = cifar10.load_data()"
      ],
      "metadata": {
        "id": "DIuD04qpFzBY"
      },
      "execution_count": null,
      "outputs": []
    },
    {
      "cell_type": "code",
      "source": [
        "# Normalize pixel values to the range [0, 1]\n",
        "x_train = x_train.astype('float32') / 255.0\n",
        "x_test = x_test.astype('float32') / 255.0"
      ],
      "metadata": {
        "id": "Swv5wD-o8yN7"
      },
      "execution_count": null,
      "outputs": []
    },
    {
      "cell_type": "code",
      "source": [
        "# Convert class labels to one-hot encoding\n",
        "y_train = to_categorical(y_train, 10)\n",
        "y_test = to_categorical(y_test, 10)"
      ],
      "metadata": {
        "id": "EHVrKnsMF-Ph"
      },
      "execution_count": null,
      "outputs": []
    },
    {
      "cell_type": "code",
      "source": [
        "# Step 2: Load the InceptionV3 model without the top layer\n",
        "# Use the pre-trained model with ImageNet weights\n",
        "base_model = InceptionV3(weights='imagenet', include_top=False, input_shape=(75, 75, 3))"
      ],
      "metadata": {
        "id": "8XHx5cB6F93u"
      },
      "execution_count": null,
      "outputs": []
    },
    {
      "cell_type": "code",
      "source": [
        "# Step 3: Add a custom classification head\n",
        "# Add a global average pooling layer\n",
        "x = GlobalAveragePooling2D()(base_model.output)\n",
        "# Add a dense layer with 256 units and ReLU activation\n",
        "x = Dense(256, activation='relu')(x)\n",
        "# Add the final softmax layer with 10 units (for CIFAR-10 classes)\n",
        "predictions = Dense(10, activation='softmax')(x)"
      ],
      "metadata": {
        "collapsed": true,
        "id": "juBFJJuxGCck"
      },
      "execution_count": null,
      "outputs": []
    },
    {
      "cell_type": "code",
      "source": [
        "# Create the final model\n",
        "model = Model(inputs=base_model.input, outputs=predictions)"
      ],
      "metadata": {
        "id": "4QGBviaRGQDb"
      },
      "execution_count": null,
      "outputs": []
    },
    {
      "cell_type": "code",
      "source": [
        "# Step 4: Freeze the base model layers to retain pre-trained weights\n",
        "for layer in base_model.layers:\n",
        "    layer.trainable = False"
      ],
      "metadata": {
        "id": "pv96lBu8GQoN"
      },
      "execution_count": null,
      "outputs": []
    },
    {
      "cell_type": "code",
      "source": [
        "# Step 5: Compile the model\n",
        "# Use Adam optimizer with a small learning rate\n",
        "model.compile(optimizer=tf.keras.optimizers.Adam(learning_rate=0.0001),\n",
        "              loss='categorical_crossentropy',\n",
        "              metrics=['accuracy'])"
      ],
      "metadata": {
        "id": "yWaL2uhEGIji"
      },
      "execution_count": null,
      "outputs": []
    },
    {
      "cell_type": "code",
      "source": [
        "# Step 6: Train the model\n",
        "# Resize CIFAR-10 images to 75x75 to match InceptionV3 input requirements\n",
        "x_train_resized = tf.image.resize(x_train, (75, 75))\n",
        "x_test_resized = tf.image.resize(x_test, (75, 75))\n",
        "\n",
        "# Train the model with 20% validation split\n",
        "history = model.fit(x_train_resized, y_train,\n",
        "                    validation_split=0.3,\n",
        "                    batch_size=32,\n",
        "                    epochs=20)"
      ],
      "metadata": {
        "colab": {
          "base_uri": "https://localhost:8080/"
        },
        "id": "pjqrkLFt9DPs",
        "outputId": "44f52581-a772-4e46-c99d-e19f274d935d"
      },
      "execution_count": null,
      "outputs": [
        {
          "output_type": "stream",
          "name": "stdout",
          "text": [
            "Epoch 1/20\n",
            "\u001b[1m1094/1094\u001b[0m \u001b[32m━━━━━━━━━━━━━━━━━━━━\u001b[0m\u001b[37m\u001b[0m \u001b[1m38s\u001b[0m 29ms/step - accuracy: 0.9000 - loss: 0.3794 - val_accuracy: 0.7039 - val_loss: 0.9703\n",
            "Epoch 2/20\n",
            "\u001b[1m1094/1094\u001b[0m \u001b[32m━━━━━━━━━━━━━━━━━━━━\u001b[0m\u001b[37m\u001b[0m \u001b[1m31s\u001b[0m 23ms/step - accuracy: 0.9102 - loss: 0.3512 - val_accuracy: 0.6999 - val_loss: 0.9806\n",
            "Epoch 3/20\n",
            "\u001b[1m1094/1094\u001b[0m \u001b[32m━━━━━━━━━━━━━━━━━━━━\u001b[0m\u001b[37m\u001b[0m \u001b[1m20s\u001b[0m 19ms/step - accuracy: 0.9192 - loss: 0.3286 - val_accuracy: 0.6943 - val_loss: 1.0093\n",
            "Epoch 4/20\n",
            "\u001b[1m1094/1094\u001b[0m \u001b[32m━━━━━━━━━━━━━━━━━━━━\u001b[0m\u001b[37m\u001b[0m \u001b[1m25s\u001b[0m 22ms/step - accuracy: 0.9287 - loss: 0.3046 - val_accuracy: 0.6912 - val_loss: 1.0290\n",
            "Epoch 5/20\n",
            "\u001b[1m1094/1094\u001b[0m \u001b[32m━━━━━━━━━━━━━━━━━━━━\u001b[0m\u001b[37m\u001b[0m \u001b[1m25s\u001b[0m 22ms/step - accuracy: 0.9384 - loss: 0.2778 - val_accuracy: 0.6867 - val_loss: 1.0446\n",
            "Epoch 6/20\n",
            "\u001b[1m1094/1094\u001b[0m \u001b[32m━━━━━━━━━━━━━━━━━━━━\u001b[0m\u001b[37m\u001b[0m \u001b[1m25s\u001b[0m 23ms/step - accuracy: 0.9435 - loss: 0.2622 - val_accuracy: 0.6893 - val_loss: 1.0598\n",
            "Epoch 7/20\n",
            "\u001b[1m1094/1094\u001b[0m \u001b[32m━━━━━━━━━━━━━━━━━━━━\u001b[0m\u001b[37m\u001b[0m \u001b[1m25s\u001b[0m 23ms/step - accuracy: 0.9505 - loss: 0.2459 - val_accuracy: 0.6831 - val_loss: 1.0792\n",
            "Epoch 8/20\n",
            "\u001b[1m1094/1094\u001b[0m \u001b[32m━━━━━━━━━━━━━━━━━━━━\u001b[0m\u001b[37m\u001b[0m \u001b[1m20s\u001b[0m 18ms/step - accuracy: 0.9541 - loss: 0.2259 - val_accuracy: 0.6810 - val_loss: 1.0952\n",
            "Epoch 9/20\n",
            "\u001b[1m1094/1094\u001b[0m \u001b[32m━━━━━━━━━━━━━━━━━━━━\u001b[0m\u001b[37m\u001b[0m \u001b[1m20s\u001b[0m 18ms/step - accuracy: 0.9600 - loss: 0.2108 - val_accuracy: 0.6780 - val_loss: 1.1256\n",
            "Epoch 10/20\n",
            "\u001b[1m1094/1094\u001b[0m \u001b[32m━━━━━━━━━━━━━━━━━━━━\u001b[0m\u001b[37m\u001b[0m \u001b[1m20s\u001b[0m 18ms/step - accuracy: 0.9649 - loss: 0.1953 - val_accuracy: 0.6735 - val_loss: 1.1468\n",
            "Epoch 11/20\n",
            "\u001b[1m1094/1094\u001b[0m \u001b[32m━━━━━━━━━━━━━━━━━━━━\u001b[0m\u001b[37m\u001b[0m \u001b[1m20s\u001b[0m 18ms/step - accuracy: 0.9713 - loss: 0.1775 - val_accuracy: 0.6730 - val_loss: 1.1676\n",
            "Epoch 12/20\n",
            "\u001b[1m1094/1094\u001b[0m \u001b[32m━━━━━━━━━━━━━━━━━━━━\u001b[0m\u001b[37m\u001b[0m \u001b[1m25s\u001b[0m 23ms/step - accuracy: 0.9747 - loss: 0.1657 - val_accuracy: 0.6729 - val_loss: 1.1821\n",
            "Epoch 13/20\n",
            "\u001b[1m1094/1094\u001b[0m \u001b[32m━━━━━━━━━━━━━━━━━━━━\u001b[0m\u001b[37m\u001b[0m \u001b[1m36s\u001b[0m 18ms/step - accuracy: 0.9805 - loss: 0.1463 - val_accuracy: 0.6707 - val_loss: 1.2144\n",
            "Epoch 14/20\n",
            "\u001b[1m1094/1094\u001b[0m \u001b[32m━━━━━━━━━━━━━━━━━━━━\u001b[0m\u001b[37m\u001b[0m \u001b[1m21s\u001b[0m 18ms/step - accuracy: 0.9836 - loss: 0.1367 - val_accuracy: 0.6672 - val_loss: 1.2361\n",
            "Epoch 15/20\n",
            "\u001b[1m1094/1094\u001b[0m \u001b[32m━━━━━━━━━━━━━━━━━━━━\u001b[0m\u001b[37m\u001b[0m \u001b[1m20s\u001b[0m 18ms/step - accuracy: 0.9858 - loss: 0.1263 - val_accuracy: 0.6659 - val_loss: 1.2575\n",
            "Epoch 16/20\n",
            "\u001b[1m1094/1094\u001b[0m \u001b[32m━━━━━━━━━━━━━━━━━━━━\u001b[0m\u001b[37m\u001b[0m \u001b[1m25s\u001b[0m 22ms/step - accuracy: 0.9885 - loss: 0.1147 - val_accuracy: 0.6676 - val_loss: 1.2836\n",
            "Epoch 17/20\n",
            "\u001b[1m1094/1094\u001b[0m \u001b[32m━━━━━━━━━━━━━━━━━━━━\u001b[0m\u001b[37m\u001b[0m \u001b[1m41s\u001b[0m 22ms/step - accuracy: 0.9910 - loss: 0.1015 - val_accuracy: 0.6639 - val_loss: 1.3120\n",
            "Epoch 18/20\n",
            "\u001b[1m1094/1094\u001b[0m \u001b[32m━━━━━━━━━━━━━━━━━━━━\u001b[0m\u001b[37m\u001b[0m \u001b[1m20s\u001b[0m 19ms/step - accuracy: 0.9926 - loss: 0.0927 - val_accuracy: 0.6619 - val_loss: 1.3353\n",
            "Epoch 19/20\n",
            "\u001b[1m1094/1094\u001b[0m \u001b[32m━━━━━━━━━━━━━━━━━━━━\u001b[0m\u001b[37m\u001b[0m \u001b[1m20s\u001b[0m 18ms/step - accuracy: 0.9947 - loss: 0.0824 - val_accuracy: 0.6593 - val_loss: 1.3643\n",
            "Epoch 20/20\n",
            "\u001b[1m1094/1094\u001b[0m \u001b[32m━━━━━━━━━━━━━━━━━━━━\u001b[0m\u001b[37m\u001b[0m \u001b[1m21s\u001b[0m 18ms/step - accuracy: 0.9962 - loss: 0.0751 - val_accuracy: 0.6575 - val_loss: 1.3929\n"
          ]
        }
      ]
    },
    {
      "cell_type": "code",
      "source": [
        "# Step 7: Evaluate the model on the test dataset\n",
        "test_loss, test_accuracy = model.evaluate(x_test_resized, y_test)\n",
        "print(f\"Test Accuracy: {test_accuracy:.2f}\")"
      ],
      "metadata": {
        "colab": {
          "base_uri": "https://localhost:8080/"
        },
        "id": "BRehPt6V9FgZ",
        "outputId": "abf79cac-8fd1-4340-ac10-822bf7641f0a"
      },
      "execution_count": null,
      "outputs": [
        {
          "output_type": "stream",
          "name": "stdout",
          "text": [
            "\u001b[1m313/313\u001b[0m \u001b[32m━━━━━━━━━━━━━━━━━━━━\u001b[0m\u001b[37m\u001b[0m \u001b[1m4s\u001b[0m 13ms/step - accuracy: 0.6188 - loss: 1.2486\n",
            "Test Accuracy: 0.62\n"
          ]
        }
      ]
    }
  ],
  "metadata": {
    "accelerator": "GPU",
    "colab": {
      "gpuType": "T4",
      "provenance": []
    },
    "kernelspec": {
      "display_name": "Python 3",
      "name": "python3"
    },
    "language_info": {
      "name": "python"
    }
  },
  "nbformat": 4,
  "nbformat_minor": 0
}